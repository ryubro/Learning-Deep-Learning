{
 "cells": [
  {
   "cell_type": "code",
   "execution_count": 1,
   "metadata": {},
   "outputs": [
    {
     "name": "stderr",
     "output_type": "stream",
     "text": [
      "Using TensorFlow backend.\n"
     ]
    }
   ],
   "source": [
    "from keras.datasets import imdb\n",
    "\n",
    "(train_data, train_labels), (test_data, test_labels) = imdb.load_data(num_words=10000)"
   ]
  },
  {
   "cell_type": "code",
   "execution_count": 2,
   "metadata": {
    "scrolled": true
   },
   "outputs": [],
   "source": [
    "from utils import vectorize_sequences\n",
    "\n",
    "x_train = vectorize_sequences(train_data)\n",
    "x_test = vectorize_sequences(test_data)\n",
    "\n",
    "import numpy as np\n",
    "\n",
    "y_train = np.asarray(train_labels).astype('float32')\n",
    "y_test = np.asarray(test_labels).astype('float32')\n",
    "\n",
    "x_val = x_train[:10000]\n",
    "partial_x_train = x_train[10000:]\n",
    "y_val = y_train[:10000]\n",
    "partial_y_train = y_train[10000:]"
   ]
  },
  {
   "cell_type": "code",
   "execution_count": 3,
   "metadata": {
    "scrolled": true
   },
   "outputs": [],
   "source": [
    "from keras import models\n",
    "from keras import layers\n",
    "import keras\n",
    "\n",
    "def create_model(num_layers=2, num_dimensions=16, activation='relu', optimizer='rmsprop', loss_func='binary_crossentropy'):\n",
    "    model = models.Sequential()\n",
    "    model.add(layers.Dense(num_dimensions, activation=activation, input_shape=(10000,)))\n",
    "    for i in range(num_layers - 1):\n",
    "        model.add(layers.Dense(num_dimensions, activation=activation))\n",
    "    model.add(layers.Dense(1, activation='sigmoid'))\n",
    "\n",
    "    model.compile(optimizer=optimizer,\n",
    "                  loss=loss_func,\n",
    "                  metrics=['accuracy'])\n",
    "    return model\n",
    "\n",
    "def get_history(model, epochs=20):\n",
    "    class WeightsHistory(keras.callbacks.Callback):\n",
    "        def on_train_begin(self, logs):\n",
    "            self.weights = []\n",
    "\n",
    "        def on_epoch_end(self, batch, logs):\n",
    "            self.weights.append(self.model.get_weights())\n",
    "    \n",
    "    weights_history = WeightsHistory()\n",
    "\n",
    "    history = model.fit(\n",
    "        x_train,\n",
    "        y_train,\n",
    "        epochs=epochs,\n",
    "        batch_size=512,\n",
    "        validation_data=(x_test, y_test),\n",
    "        callbacks=[weights_history]\n",
    "    )\n",
    "    \n",
    "    return (history, weights_history)\n",
    "\n",
    "def get_best_epoch(history):\n",
    "    minimum_loss = min(history.history['val_loss'])\n",
    "    return history.history['val_loss'].index(minimum_loss)\n",
    "\n",
    "def evaluate_model(model, epochs):\n",
    "    model.fit(x_train, y_train, epochs=epochs, batch_size=512)\n",
    "    return model.evaluate(x_test, y_test)\n"
   ]
  },
  {
   "cell_type": "code",
   "execution_count": 4,
   "metadata": {
    "scrolled": false
   },
   "outputs": [
    {
     "name": "stdout",
     "output_type": "stream",
     "text": [
      "WARNING:tensorflow:From /Users/ryubro/Conclusion/PP/keras/venv/lib/python3.7/site-packages/tensorflow/python/framework/op_def_library.py:263: colocate_with (from tensorflow.python.framework.ops) is deprecated and will be removed in a future version.\n",
      "Instructions for updating:\n",
      "Colocations handled automatically by placer.\n",
      "WARNING:tensorflow:From /Users/ryubro/Conclusion/PP/keras/venv/lib/python3.7/site-packages/tensorflow/python/ops/math_ops.py:3066: to_int32 (from tensorflow.python.ops.math_ops) is deprecated and will be removed in a future version.\n",
      "Instructions for updating:\n",
      "Use tf.cast instead.\n",
      "Train on 25000 samples, validate on 25000 samples\n",
      "Epoch 1/10\n",
      "25000/25000 [==============================] - 4s 146us/step - loss: 0.4496 - acc: 0.8164 - val_loss: 0.3340 - val_acc: 0.8793\n",
      "Epoch 2/10\n",
      "25000/25000 [==============================] - 3s 113us/step - loss: 0.2552 - acc: 0.9094 - val_loss: 0.3169 - val_acc: 0.8709\n",
      "Epoch 3/10\n",
      "25000/25000 [==============================] - 2s 92us/step - loss: 0.1969 - acc: 0.9299 - val_loss: 0.2821 - val_acc: 0.8882\n",
      "Epoch 4/10\n",
      "25000/25000 [==============================] - 2s 89us/step - loss: 0.1669 - acc: 0.9408 - val_loss: 0.2946 - val_acc: 0.8832\n",
      "Epoch 5/10\n",
      "25000/25000 [==============================] - 2s 93us/step - loss: 0.1431 - acc: 0.9485 - val_loss: 0.3221 - val_acc: 0.8782\n",
      "Epoch 6/10\n",
      "25000/25000 [==============================] - 2s 95us/step - loss: 0.1266 - acc: 0.9560 - val_loss: 0.3491 - val_acc: 0.8725\n",
      "Epoch 7/10\n",
      "25000/25000 [==============================] - 2s 92us/step - loss: 0.1128 - acc: 0.9609 - val_loss: 0.3613 - val_acc: 0.8715\n",
      "Epoch 8/10\n",
      "25000/25000 [==============================] - 2s 95us/step - loss: 0.1010 - acc: 0.9652 - val_loss: 0.4099 - val_acc: 0.8634\n",
      "Epoch 9/10\n",
      "25000/25000 [==============================] - 2s 90us/step - loss: 0.0904 - acc: 0.9686 - val_loss: 0.4177 - val_acc: 0.8648\n",
      "Epoch 10/10\n",
      "25000/25000 [==============================] - 2s 89us/step - loss: 0.0811 - acc: 0.9722 - val_loss: 0.4483 - val_acc: 0.8621\n",
      "25000/25000 [==============================] - 1s 32us/step\n"
     ]
    },
    {
     "data": {
      "text/plain": [
       "[0.2821160471057892, 0.8882]"
      ]
     },
     "execution_count": 4,
     "metadata": {},
     "output_type": "execute_result"
    }
   ],
   "source": [
    "# model = create_model(num_layers=1, num_dimensions=8, activation='tanh')\n",
    "model = create_model()\n",
    "history, weights_history = get_history(model, 10)\n",
    "best_epoch = get_best_epoch(history)\n",
    "best_weights = weights_history.weights[best_epoch]\n",
    "model.set_weights(best_weights)\n",
    "model.evaluate(x_test, y_test)"
   ]
  }
 ],
 "metadata": {
  "kernelspec": {
   "display_name": "Python 3",
   "language": "python",
   "name": "python3"
  },
  "language_info": {
   "codemirror_mode": {
    "name": "ipython",
    "version": 3
   },
   "file_extension": ".py",
   "mimetype": "text/x-python",
   "name": "python",
   "nbconvert_exporter": "python",
   "pygments_lexer": "ipython3",
   "version": "3.7.2"
  }
 },
 "nbformat": 4,
 "nbformat_minor": 2
}
