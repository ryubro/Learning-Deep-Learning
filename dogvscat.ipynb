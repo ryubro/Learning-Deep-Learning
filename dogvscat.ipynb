{
 "cells": [
  {
   "cell_type": "code",
   "execution_count": 1,
   "metadata": {},
   "outputs": [],
   "source": [
    "import os, shutil"
   ]
  },
  {
   "cell_type": "code",
   "execution_count": 2,
   "metadata": {},
   "outputs": [],
   "source": [
    "from functools import reduce\n",
    "\n",
    "def get_dir(dir_vector):\n",
    "    return reduce(lambda acc, dir: os.path.join(acc, dir), dir_vector)\n",
    "\n",
    "base_dir = os.path.abspath('./dog-vs-cat-small')\n",
    "train_dirs = dict([(cls, get_dir([base_dir, 'train', cls])) for cls in ['dog', 'cat']])\n",
    "validation_dirs = dict([(cls, get_dir([base_dir, 'validation', cls])) for cls in ['dog', 'cat']])\n",
    "test_dirs = dict([(cls, get_dir([base_dir, 'test', cls])) for cls in ['dog', 'cat']])"
   ]
  },
  {
   "cell_type": "code",
   "execution_count": null,
   "metadata": {},
   "outputs": [],
   "source": [
    "for data_set in [train_dirs, validation_dirs, test_dirs]:\n",
    "    for (cls, dir) in data_set.items():\n",
    "        os.makedirs(dir)\n",
    "        "
   ]
  },
  {
   "cell_type": "code",
   "execution_count": 3,
   "metadata": {},
   "outputs": [],
   "source": [
    "original_dataset_dir = os.path.abspath('./dogs-vs-cats')\n",
    "\n",
    "for i in range(1000):\n",
    "    shutil.copy(os.path.join(original_dataset_dir, 'train/cat.{}.jpg'.format(i)),\n",
    "                train_dirs['cat'])\n",
    "    shutil.copy(os.path.join(original_dataset_dir, 'train/dog.{}.jpg'.format(i)),\n",
    "                train_dirs['dog'])\n",
    "    \n",
    "for i in range(1000, 1500):\n",
    "    shutil.copy(os.path.join(original_dataset_dir, 'train/cat.{}.jpg'.format(i)),\n",
    "                validation_dirs['cat'])\n",
    "    shutil.copy(os.path.join(original_dataset_dir, 'train/dog.{}.jpg'.format(i)),\n",
    "                validation_dirs['dog'])\n",
    "\n",
    "for i in range(1500, 2000):\n",
    "    shutil.copy(os.path.join(original_dataset_dir, 'train/cat.{}.jpg'.format(i)),\n",
    "                test_dirs['cat'])\n",
    "    shutil.copy(os.path.join(original_dataset_dir, 'train/dog.{}.jpg'.format(i)),\n",
    "                test_dirs['dog'])"
   ]
  },
  {
   "cell_type": "code",
   "execution_count": 4,
   "metadata": {},
   "outputs": [
    {
     "name": "stderr",
     "output_type": "stream",
     "text": [
      "Using TensorFlow backend.\n"
     ]
    },
    {
     "name": "stdout",
     "output_type": "stream",
     "text": [
      "WARNING:tensorflow:From /Users/ryubro/Conclusion/PP/keras/venv/lib/python3.7/site-packages/tensorflow/python/framework/op_def_library.py:263: colocate_with (from tensorflow.python.framework.ops) is deprecated and will be removed in a future version.\n",
      "Instructions for updating:\n",
      "Colocations handled automatically by placer.\n"
     ]
    }
   ],
   "source": [
    "from keras import models, layers, optimizers\n",
    "\n",
    "model = models.Sequential()\n",
    "model.add(layers.Conv2D(32, (3, 3), activation='relu', input_shape=(150, 150, 3))) # Output: (148, 148, 32)\n",
    "model.add(layers.MaxPooling2D((2, 2))) # Output: (74, 74, 32)\n",
    "model.add(layers.Conv2D(64, (3, 3), activation='relu')) # Output: (72, 72, 64)\n",
    "model.add(layers.MaxPooling2D((2, 2))) # Output: (37, 37, 64)\n",
    "model.add(layers.Conv2D(128, (3, 3), activation='relu')) # Output: (35, 35, 128)\n",
    "model.add(layers.MaxPooling2D((2, 2))) # Output: (17, 17, 128)\n",
    "model.add(layers.Conv2D(128, (3, 3), activation='relu')) # Output: (15, 15, 128)\n",
    "model.add(layers.MaxPooling2D((2, 2))) # Output: (7, 7, 128)\n",
    "model.add(layers.Flatten()) # Output: (6272)\n",
    "model.add(layers.Dense(512, activation='relu')) # Output: (512)\n",
    "model.add(layers.Dense(1, activation='sigmoid'))\n",
    "\n",
    "model.compile(loss='binary_crossentropy',\n",
    "              optimizer=optimizers.RMSprop(lr=1e-4),\n",
    "              metrics=['acc'])\n"
   ]
  },
  {
   "cell_type": "code",
   "execution_count": 5,
   "metadata": {},
   "outputs": [
    {
     "name": "stdout",
     "output_type": "stream",
     "text": [
      "Found 2000 images belonging to 2 classes.\n",
      "Found 1000 images belonging to 2 classes.\n"
     ]
    }
   ],
   "source": [
    "from keras.preprocessing.image import ImageDataGenerator\n",
    "\n",
    "train_generator = ImageDataGenerator(rescale=1./255).flow_from_directory(os.path.commonpath(train_dirs.values()),\n",
    "                                                                         target_size=(150, 150),\n",
    "                                                                         batch_size=20,\n",
    "                                                                         class_mode='binary')\n",
    "validation_generator = ImageDataGenerator(rescale=1./255).flow_from_directory(os.path.commonpath(validation_dirs.values()),\n",
    "                                                                              target_size=(150, 150),\n",
    "                                                                              batch_size=20,\n",
    "                                                                              class_mode='binary')\n"
   ]
  },
  {
   "cell_type": "code",
   "execution_count": 7,
   "metadata": {},
   "outputs": [
    {
     "name": "stdout",
     "output_type": "stream",
     "text": [
      "(20, 150, 150, 3)\n",
      "(20,)\n"
     ]
    }
   ],
   "source": [
    "for data_batch, labels_batch in train_generator:\n",
    "    print(data_batch.shape)\n",
    "    print(labels_batch.shape)\n",
    "    break\n"
   ]
  },
  {
   "cell_type": "code",
   "execution_count": 8,
   "metadata": {},
   "outputs": [
    {
     "name": "stdout",
     "output_type": "stream",
     "text": [
      "WARNING:tensorflow:From /Users/ryubro/Conclusion/PP/keras/venv/lib/python3.7/site-packages/tensorflow/python/ops/math_ops.py:3066: to_int32 (from tensorflow.python.ops.math_ops) is deprecated and will be removed in a future version.\n",
      "Instructions for updating:\n",
      "Use tf.cast instead.\n",
      "Epoch 1/30\n",
      "100/100 [==============================] - 56s 560ms/step - loss: 0.6904 - acc: 0.5355 - val_loss: 0.6791 - val_acc: 0.5130\n",
      "Epoch 2/30\n",
      "100/100 [==============================] - 62s 618ms/step - loss: 0.6586 - acc: 0.6010 - val_loss: 0.6382 - val_acc: 0.6380\n",
      "Epoch 3/30\n",
      "100/100 [==============================] - 62s 623ms/step - loss: 0.6108 - acc: 0.6745 - val_loss: 0.6033 - val_acc: 0.6680\n",
      "Epoch 4/30\n",
      "100/100 [==============================] - 62s 619ms/step - loss: 0.5708 - acc: 0.6985 - val_loss: 0.6146 - val_acc: 0.6470\n",
      "Epoch 5/30\n",
      "100/100 [==============================] - 60s 601ms/step - loss: 0.5393 - acc: 0.7385 - val_loss: 0.5768 - val_acc: 0.6860\n",
      "Epoch 6/30\n",
      "100/100 [==============================] - 64s 642ms/step - loss: 0.5139 - acc: 0.7445 - val_loss: 0.5853 - val_acc: 0.6850\n",
      "Epoch 7/30\n",
      "100/100 [==============================] - 62s 622ms/step - loss: 0.4890 - acc: 0.7540 - val_loss: 0.5472 - val_acc: 0.7120\n",
      "Epoch 8/30\n",
      "100/100 [==============================] - 52s 518ms/step - loss: 0.4515 - acc: 0.7940 - val_loss: 0.6247 - val_acc: 0.6870\n",
      "Epoch 9/30\n",
      "100/100 [==============================] - 54s 541ms/step - loss: 0.4392 - acc: 0.7935 - val_loss: 0.5483 - val_acc: 0.7150\n",
      "Epoch 10/30\n",
      "100/100 [==============================] - 54s 540ms/step - loss: 0.4045 - acc: 0.8290 - val_loss: 0.5438 - val_acc: 0.7230\n",
      "Epoch 11/30\n",
      "100/100 [==============================] - 55s 548ms/step - loss: 0.3802 - acc: 0.8315 - val_loss: 0.5299 - val_acc: 0.7380\n",
      "Epoch 12/30\n",
      "100/100 [==============================] - 132s 1s/step - loss: 0.3462 - acc: 0.8485 - val_loss: 0.5467 - val_acc: 0.7290\n",
      "Epoch 13/30\n",
      "100/100 [==============================] - 59s 591ms/step - loss: 0.3307 - acc: 0.8570 - val_loss: 0.5717 - val_acc: 0.7250\n",
      "Epoch 14/30\n",
      "100/100 [==============================] - 58s 580ms/step - loss: 0.2997 - acc: 0.8770 - val_loss: 0.5746 - val_acc: 0.7280\n",
      "Epoch 15/30\n",
      "100/100 [==============================] - 58s 584ms/step - loss: 0.2834 - acc: 0.8810 - val_loss: 0.6464 - val_acc: 0.7260\n",
      "Epoch 16/30\n",
      "100/100 [==============================] - 58s 584ms/step - loss: 0.2649 - acc: 0.8970 - val_loss: 0.6387 - val_acc: 0.7330\n",
      "Epoch 17/30\n",
      "100/100 [==============================] - 58s 577ms/step - loss: 0.2339 - acc: 0.9100 - val_loss: 0.6821 - val_acc: 0.7350\n",
      "Epoch 18/30\n",
      "100/100 [==============================] - 59s 594ms/step - loss: 0.2189 - acc: 0.9180 - val_loss: 0.6171 - val_acc: 0.7260\n",
      "Epoch 19/30\n",
      "100/100 [==============================] - 57s 573ms/step - loss: 0.1925 - acc: 0.9225 - val_loss: 0.6488 - val_acc: 0.7340\n",
      "Epoch 20/30\n",
      "100/100 [==============================] - 59s 589ms/step - loss: 0.1836 - acc: 0.9330 - val_loss: 0.6479 - val_acc: 0.7340\n",
      "Epoch 21/30\n",
      "100/100 [==============================] - 59s 588ms/step - loss: 0.1553 - acc: 0.9510 - val_loss: 0.7235 - val_acc: 0.7340\n",
      "Epoch 22/30\n",
      "100/100 [==============================] - 58s 584ms/step - loss: 0.1418 - acc: 0.9525 - val_loss: 0.7514 - val_acc: 0.7310\n",
      "Epoch 23/30\n",
      "100/100 [==============================] - 61s 609ms/step - loss: 0.1207 - acc: 0.9635 - val_loss: 0.7201 - val_acc: 0.7240\n",
      "Epoch 24/30\n",
      "100/100 [==============================] - 58s 581ms/step - loss: 0.1115 - acc: 0.9595 - val_loss: 0.7570 - val_acc: 0.7370\n",
      "Epoch 25/30\n",
      "100/100 [==============================] - 61s 605ms/step - loss: 0.0954 - acc: 0.9715 - val_loss: 0.8127 - val_acc: 0.7430\n",
      "Epoch 26/30\n",
      "100/100 [==============================] - 57s 571ms/step - loss: 0.0818 - acc: 0.9735 - val_loss: 0.7957 - val_acc: 0.7240\n",
      "Epoch 27/30\n",
      "100/100 [==============================] - 58s 581ms/step - loss: 0.0632 - acc: 0.9805 - val_loss: 0.8631 - val_acc: 0.7280\n",
      "Epoch 28/30\n",
      "100/100 [==============================] - 59s 587ms/step - loss: 0.0559 - acc: 0.9885 - val_loss: 0.9702 - val_acc: 0.7330\n",
      "Epoch 29/30\n",
      "100/100 [==============================] - 58s 580ms/step - loss: 0.0534 - acc: 0.9860 - val_loss: 0.9750 - val_acc: 0.7280\n",
      "Epoch 30/30\n",
      "100/100 [==============================] - 60s 595ms/step - loss: 0.0441 - acc: 0.9880 - val_loss: 0.9590 - val_acc: 0.7300\n"
     ]
    }
   ],
   "source": [
    "history = model.fit_generator(train_generator,\n",
    "                              steps_per_epoch=100,\n",
    "                              epochs=30,\n",
    "                              validation_data=validation_generator,\n",
    "                              validation_steps=50)\n",
    "\n",
    "model.save('cats_and_dogs_small_1.h5')"
   ]
  },
  {
   "cell_type": "code",
   "execution_count": 16,
   "metadata": {},
   "outputs": [
    {
     "data": {
      "text/plain": [
       "<matplotlib.legend.Legend at 0x1321ec2b0>"
      ]
     },
     "execution_count": 16,
     "metadata": {},
     "output_type": "execute_result"
    },
    {
     "data": {
      "image/png": "[encoded data removed]",
      "text/plain": [
       "<Figure size 432x288 with 1 Axes>"
      ]
     },
     "metadata": {
      "needs_background": "light"
     },
     "output_type": "display_data"
    }
   ],
   "source": [
    "from matplotlib import pyplot as plt\n",
    "\n",
    "plt.plot(history.epoch, history.history['loss'], 'bo', label='Loss')\n",
    "plt.plot(history.epoch, history.history['val_loss'], 'b', label='Val Loss')\n",
    "plt.plot(history.epoch, history.history['acc'], 'ro', label='Acc')\n",
    "plt.plot(history.epoch, history.history['val_acc'], 'r', label='Val Acc')\n",
    "plt.legend()"
   ]
  },
  {
   "cell_type": "code",
   "execution_count": 11,
   "metadata": {},
   "outputs": [
    {
     "data": {
      "text/plain": [
       "[0,\n",
       " 1,\n",
       " 2,\n",
       " 3,\n",
       " 4,\n",
       " 5,\n",
       " 6,\n",
       " 7,\n",
       " 8,\n",
       " 9,\n",
       " 10,\n",
       " 11,\n",
       " 12,\n",
       " 13,\n",
       " 14,\n",
       " 15,\n",
       " 16,\n",
       " 17,\n",
       " 18,\n",
       " 19,\n",
       " 20,\n",
       " 21,\n",
       " 22,\n",
       " 23,\n",
       " 24,\n",
       " 25,\n",
       " 26,\n",
       " 27,\n",
       " 28,\n",
       " 29]"
      ]
     },
     "execution_count": 11,
     "metadata": {},
     "output_type": "execute_result"
    }
   ],
   "source": []
  }
 ],
 "metadata": {
  "kernelspec": {
   "display_name": "Python 3",
   "language": "python",
   "name": "python3"
  },
  "language_info": {
   "codemirror_mode": {
    "name": "ipython",
    "version": 3
   },
   "file_extension": ".py",
   "mimetype": "text/x-python",
   "name": "python",
   "nbconvert_exporter": "python",
   "pygments_lexer": "ipython3",
   "version": "3.7.2"
  }
 },
 "nbformat": 4,
 "nbformat_minor": 2
}
