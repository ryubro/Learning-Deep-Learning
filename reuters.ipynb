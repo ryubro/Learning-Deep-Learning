{
 "cells": [
  {
   "cell_type": "code",
   "execution_count": 1,
   "metadata": {},
   "outputs": [
    {
     "name": "stderr",
     "output_type": "stream",
     "text": [
      "Using TensorFlow backend.\n"
     ]
    }
   ],
   "source": [
    "from keras.datasets import reuters\n",
    "\n",
    "(train_data, train_labels), (test_data, test_labels) = reuters.load_data(num_words=10000)"
   ]
  },
  {
   "cell_type": "code",
   "execution_count": 2,
   "metadata": {},
   "outputs": [
    {
     "data": {
      "text/plain": [
       "array([ 3,  4,  3, ..., 25,  3, 25])"
      ]
     },
     "execution_count": 2,
     "metadata": {},
     "output_type": "execute_result"
    }
   ],
   "source": [
    "word_index = reuters.get_word_index()\n",
    "reverse_word_index = list(map(lambda pair: pair[0], sorted(list(word_index.items()), key=lambda pair: pair[1])))\n",
    "\n",
    "train_labels"
   ]
  },
  {
   "cell_type": "code",
   "execution_count": 3,
   "metadata": {
    "scrolled": true
   },
   "outputs": [],
   "source": [
    "from utils import vectorize_sequences\n",
    "\n",
    "x_train = vectorize_sequences(train_data)\n",
    "x_test = vectorize_sequences(test_data)\n"
   ]
  },
  {
   "cell_type": "code",
   "execution_count": 4,
   "metadata": {},
   "outputs": [],
   "source": [
    "from keras.utils.np_utils import to_categorical\n",
    "\n",
    "one_hot_train_labels = to_categorical(train_labels)\n",
    "one_hot_test_labels = to_categorical(test_labels)"
   ]
  },
  {
   "cell_type": "code",
   "execution_count": 144,
   "metadata": {},
   "outputs": [],
   "source": [
    "from keras import models, layers\n",
    "\n",
    "model = models.Sequential()\n",
    "model.add(layers.Dense(92, activation='relu', input_shape=(10000,)))\n",
    "model.add(layers.Dense(46, activation='softmax'))"
   ]
  },
  {
   "cell_type": "code",
   "execution_count": 145,
   "metadata": {},
   "outputs": [],
   "source": [
    "model.compile(optimizer='rmsprop',\n",
    "              loss='categorical_crossentropy',\n",
    "              metrics=['accuracy'])"
   ]
  },
  {
   "cell_type": "code",
   "execution_count": 146,
   "metadata": {
    "scrolled": false
   },
   "outputs": [
    {
     "name": "stdout",
     "output_type": "stream",
     "text": [
      "Train on 1000 samples, validate on 7982 samples\n",
      "Epoch 1/100\n",
      "1000/1000 [==============================] - 2s 2ms/step - loss: 3.6660 - acc: 0.2650 - val_loss: 3.1146 - val_acc: 0.5307\n",
      "Epoch 2/100\n",
      "1000/1000 [==============================] - 0s 446us/step - loss: 2.7870 - acc: 0.6350 - val_loss: 2.6098 - val_acc: 0.6031\n",
      "Epoch 3/100\n",
      "1000/1000 [==============================] - 0s 446us/step - loss: 2.1360 - acc: 0.7500 - val_loss: 2.2957 - val_acc: 0.6215\n",
      "Epoch 4/100\n",
      "1000/1000 [==============================] - 1s 533us/step - loss: 1.7015 - acc: 0.7770 - val_loss: 2.0870 - val_acc: 0.6416\n",
      "Epoch 5/100\n",
      "1000/1000 [==============================] - 1s 561us/step - loss: 1.3914 - acc: 0.8300 - val_loss: 1.9296 - val_acc: 0.6626\n",
      "Epoch 6/100\n",
      "1000/1000 [==============================] - 1s 507us/step - loss: 1.1599 - acc: 0.8610 - val_loss: 1.8193 - val_acc: 0.6590\n",
      "Epoch 7/100\n",
      "1000/1000 [==============================] - 1s 543us/step - loss: 0.9815 - acc: 0.8950 - val_loss: 1.7269 - val_acc: 0.6744\n",
      "Epoch 8/100\n",
      "1000/1000 [==============================] - 1s 617us/step - loss: 0.8402 - acc: 0.9060 - val_loss: 1.6542 - val_acc: 0.6778\n",
      "Epoch 9/100\n",
      "1000/1000 [==============================] - 0s 421us/step - loss: 0.7233 - acc: 0.9300 - val_loss: 1.5985 - val_acc: 0.6813\n",
      "Epoch 10/100\n",
      "1000/1000 [==============================] - 0s 434us/step - loss: 0.6277 - acc: 0.9410 - val_loss: 1.5511 - val_acc: 0.6838\n",
      "Epoch 11/100\n",
      "1000/1000 [==============================] - 0s 459us/step - loss: 0.5474 - acc: 0.9500 - val_loss: 1.5090 - val_acc: 0.6912\n",
      "Epoch 12/100\n",
      "1000/1000 [==============================] - 1s 594us/step - loss: 0.4788 - acc: 0.9590 - val_loss: 1.4746 - val_acc: 0.6964\n",
      "Epoch 13/100\n",
      "1000/1000 [==============================] - 0s 442us/step - loss: 0.4198 - acc: 0.9670 - val_loss: 1.4487 - val_acc: 0.6953\n",
      "Epoch 14/100\n",
      "1000/1000 [==============================] - 1s 527us/step - loss: 0.3700 - acc: 0.9680 - val_loss: 1.4237 - val_acc: 0.6984\n",
      "Epoch 15/100\n",
      "1000/1000 [==============================] - 0s 460us/step - loss: 0.3262 - acc: 0.9710 - val_loss: 1.4015 - val_acc: 0.7033\n",
      "Epoch 16/100\n",
      "1000/1000 [==============================] - 0s 410us/step - loss: 0.2876 - acc: 0.9760 - val_loss: 1.3885 - val_acc: 0.7031\n",
      "Epoch 17/100\n",
      "1000/1000 [==============================] - 0s 425us/step - loss: 0.2549 - acc: 0.9780 - val_loss: 1.3738 - val_acc: 0.7047\n",
      "Epoch 18/100\n",
      "1000/1000 [==============================] - 0s 411us/step - loss: 0.2260 - acc: 0.9800 - val_loss: 1.3589 - val_acc: 0.7068\n",
      "Epoch 19/100\n",
      "1000/1000 [==============================] - 0s 420us/step - loss: 0.2007 - acc: 0.9850 - val_loss: 1.3527 - val_acc: 0.7053\n",
      "Epoch 20/100\n",
      "1000/1000 [==============================] - 0s 432us/step - loss: 0.1789 - acc: 0.9860 - val_loss: 1.3422 - val_acc: 0.7091\n",
      "Epoch 21/100\n",
      "1000/1000 [==============================] - 0s 412us/step - loss: 0.1593 - acc: 0.9870 - val_loss: 1.3377 - val_acc: 0.7078\n",
      "Epoch 22/100\n",
      "1000/1000 [==============================] - 0s 414us/step - loss: 0.1428 - acc: 0.9880 - val_loss: 1.3347 - val_acc: 0.7083\n",
      "Epoch 23/100\n",
      "1000/1000 [==============================] - 0s 404us/step - loss: 0.1277 - acc: 0.9890 - val_loss: 1.3289 - val_acc: 0.7119\n",
      "Epoch 24/100\n",
      "1000/1000 [==============================] - 0s 409us/step - loss: 0.1142 - acc: 0.9910 - val_loss: 1.3286 - val_acc: 0.7096\n",
      "Epoch 25/100\n",
      "1000/1000 [==============================] - 0s 412us/step - loss: 0.1029 - acc: 0.9900 - val_loss: 1.3269 - val_acc: 0.7107\n",
      "Epoch 26/100\n",
      "1000/1000 [==============================] - 0s 404us/step - loss: 0.0926 - acc: 0.9920 - val_loss: 1.3259 - val_acc: 0.7114\n",
      "Epoch 27/100\n",
      "1000/1000 [==============================] - 0s 406us/step - loss: 0.0837 - acc: 0.9920 - val_loss: 1.3254 - val_acc: 0.7116\n",
      "Epoch 28/100\n",
      "1000/1000 [==============================] - 0s 409us/step - loss: 0.0755 - acc: 0.9930 - val_loss: 1.3269 - val_acc: 0.7117\n",
      "Epoch 29/100\n",
      "1000/1000 [==============================] - 0s 404us/step - loss: 0.0687 - acc: 0.9930 - val_loss: 1.3264 - val_acc: 0.7121\n",
      "Epoch 30/100\n",
      "1000/1000 [==============================] - 0s 407us/step - loss: 0.0628 - acc: 0.9930 - val_loss: 1.3262 - val_acc: 0.7124\n",
      "Epoch 31/100\n",
      "1000/1000 [==============================] - 0s 414us/step - loss: 0.0568 - acc: 0.9930 - val_loss: 1.3274 - val_acc: 0.7139\n",
      "Epoch 32/100\n",
      "1000/1000 [==============================] - 0s 408us/step - loss: 0.0522 - acc: 0.9920 - val_loss: 1.3367 - val_acc: 0.7120\n",
      "Epoch 33/100\n",
      "1000/1000 [==============================] - 0s 398us/step - loss: 0.0474 - acc: 0.9940 - val_loss: 1.3373 - val_acc: 0.7122\n",
      "Epoch 34/100\n",
      "1000/1000 [==============================] - 0s 407us/step - loss: 0.0440 - acc: 0.9930 - val_loss: 1.3389 - val_acc: 0.7132\n",
      "Epoch 35/100\n",
      "1000/1000 [==============================] - 0s 405us/step - loss: 0.0402 - acc: 0.9940 - val_loss: 1.3433 - val_acc: 0.7132\n",
      "Epoch 36/100\n",
      "1000/1000 [==============================] - 0s 409us/step - loss: 0.0370 - acc: 0.9940 - val_loss: 1.3427 - val_acc: 0.7139\n",
      "Epoch 37/100\n",
      "1000/1000 [==============================] - 0s 412us/step - loss: 0.0346 - acc: 0.9940 - val_loss: 1.3501 - val_acc: 0.7146\n",
      "Epoch 38/100\n",
      "1000/1000 [==============================] - 0s 460us/step - loss: 0.0316 - acc: 0.9950 - val_loss: 1.3549 - val_acc: 0.7132\n",
      "Epoch 39/100\n",
      "1000/1000 [==============================] - 0s 390us/step - loss: 0.0294 - acc: 0.9950 - val_loss: 1.3608 - val_acc: 0.7131\n",
      "Epoch 40/100\n",
      "1000/1000 [==============================] - 0s 403us/step - loss: 0.0276 - acc: 0.9950 - val_loss: 1.3611 - val_acc: 0.7166\n",
      "Epoch 41/100\n",
      "1000/1000 [==============================] - 0s 415us/step - loss: 0.0256 - acc: 0.9950 - val_loss: 1.3698 - val_acc: 0.7149\n",
      "Epoch 42/100\n",
      "1000/1000 [==============================] - 0s 402us/step - loss: 0.0238 - acc: 0.9950 - val_loss: 1.3736 - val_acc: 0.7151\n",
      "Epoch 43/100\n",
      "1000/1000 [==============================] - 0s 410us/step - loss: 0.0226 - acc: 0.9950 - val_loss: 1.3774 - val_acc: 0.7164\n",
      "Epoch 44/100\n",
      "1000/1000 [==============================] - 0s 419us/step - loss: 0.0212 - acc: 0.9950 - val_loss: 1.3836 - val_acc: 0.7162\n",
      "Epoch 45/100\n",
      "1000/1000 [==============================] - 0s 419us/step - loss: 0.0208 - acc: 0.9950 - val_loss: 1.3859 - val_acc: 0.7166\n",
      "Epoch 46/100\n",
      "1000/1000 [==============================] - 0s 441us/step - loss: 0.0186 - acc: 0.9960 - val_loss: 1.3956 - val_acc: 0.7165\n",
      "Epoch 47/100\n",
      "1000/1000 [==============================] - 0s 409us/step - loss: 0.0175 - acc: 0.9960 - val_loss: 1.4001 - val_acc: 0.7157\n",
      "Epoch 48/100\n",
      "1000/1000 [==============================] - 0s 413us/step - loss: 0.0178 - acc: 0.9940 - val_loss: 1.4052 - val_acc: 0.7165\n",
      "Epoch 49/100\n",
      "1000/1000 [==============================] - 0s 412us/step - loss: 0.0165 - acc: 0.9950 - val_loss: 1.4104 - val_acc: 0.7156\n",
      "Epoch 50/100\n",
      "1000/1000 [==============================] - 0s 411us/step - loss: 0.0159 - acc: 0.9950 - val_loss: 1.4162 - val_acc: 0.7160\n",
      "Epoch 51/100\n",
      "1000/1000 [==============================] - 0s 405us/step - loss: 0.0151 - acc: 0.9940 - val_loss: 1.4221 - val_acc: 0.7166\n",
      "Epoch 52/100\n",
      "1000/1000 [==============================] - 0s 411us/step - loss: 0.0142 - acc: 0.9960 - val_loss: 1.4369 - val_acc: 0.7156\n",
      "Epoch 53/100\n",
      "1000/1000 [==============================] - 0s 407us/step - loss: 0.0132 - acc: 0.9960 - val_loss: 1.4405 - val_acc: 0.7166\n",
      "Epoch 54/100\n",
      "1000/1000 [==============================] - 0s 404us/step - loss: 0.0125 - acc: 0.9960 - val_loss: 1.4473 - val_acc: 0.7164\n",
      "Epoch 55/100\n",
      "1000/1000 [==============================] - 0s 407us/step - loss: 0.0121 - acc: 0.9950 - val_loss: 1.4518 - val_acc: 0.7171\n",
      "Epoch 56/100\n",
      "1000/1000 [==============================] - 0s 423us/step - loss: 0.0114 - acc: 0.9960 - val_loss: 1.4634 - val_acc: 0.7155\n",
      "Epoch 57/100\n",
      "1000/1000 [==============================] - 0s 400us/step - loss: 0.0112 - acc: 0.9950 - val_loss: 1.4691 - val_acc: 0.7161\n",
      "Epoch 58/100\n",
      "1000/1000 [==============================] - 0s 404us/step - loss: 0.0116 - acc: 0.9960 - val_loss: 1.4717 - val_acc: 0.7167\n",
      "Epoch 59/100\n",
      "1000/1000 [==============================] - 0s 415us/step - loss: 0.0101 - acc: 0.9960 - val_loss: 1.4795 - val_acc: 0.7166\n",
      "Epoch 60/100\n"
     ]
    },
    {
     "name": "stdout",
     "output_type": "stream",
     "text": [
      "1000/1000 [==============================] - 0s 410us/step - loss: 0.0102 - acc: 0.9960 - val_loss: 1.4923 - val_acc: 0.7172\n",
      "Epoch 61/100\n",
      "1000/1000 [==============================] - 0s 413us/step - loss: 0.0095 - acc: 0.9950 - val_loss: 1.4966 - val_acc: 0.7179\n",
      "Epoch 62/100\n",
      "1000/1000 [==============================] - 0s 413us/step - loss: 0.0093 - acc: 0.9960 - val_loss: 1.5038 - val_acc: 0.7162\n",
      "Epoch 63/100\n",
      "1000/1000 [==============================] - 0s 405us/step - loss: 0.0090 - acc: 0.9950 - val_loss: 1.5088 - val_acc: 0.7165\n",
      "Epoch 64/100\n",
      "1000/1000 [==============================] - 0s 401us/step - loss: 0.0085 - acc: 0.9960 - val_loss: 1.5195 - val_acc: 0.7175\n",
      "Epoch 65/100\n",
      "1000/1000 [==============================] - 0s 405us/step - loss: 0.0083 - acc: 0.9960 - val_loss: 1.5305 - val_acc: 0.7150\n",
      "Epoch 66/100\n",
      "1000/1000 [==============================] - 0s 406us/step - loss: 0.0094 - acc: 0.9950 - val_loss: 1.5375 - val_acc: 0.7166\n",
      "Epoch 67/100\n",
      "1000/1000 [==============================] - 0s 407us/step - loss: 0.0088 - acc: 0.9950 - val_loss: 1.5499 - val_acc: 0.7155\n",
      "Epoch 68/100\n",
      "1000/1000 [==============================] - 0s 403us/step - loss: 0.0076 - acc: 0.9960 - val_loss: 1.5516 - val_acc: 0.7166\n",
      "Epoch 69/100\n",
      "1000/1000 [==============================] - 0s 407us/step - loss: 0.0077 - acc: 0.9940 - val_loss: 1.5603 - val_acc: 0.7169\n",
      "Epoch 70/100\n",
      "1000/1000 [==============================] - 0s 413us/step - loss: 0.0073 - acc: 0.9960 - val_loss: 1.5690 - val_acc: 0.7151\n",
      "Epoch 71/100\n",
      "1000/1000 [==============================] - 0s 404us/step - loss: 0.0068 - acc: 0.9960 - val_loss: 1.5786 - val_acc: 0.7150\n",
      "Epoch 72/100\n",
      "1000/1000 [==============================] - 0s 401us/step - loss: 0.0080 - acc: 0.9940 - val_loss: 1.5775 - val_acc: 0.7166\n",
      "Epoch 73/100\n",
      "1000/1000 [==============================] - 0s 410us/step - loss: 0.0075 - acc: 0.9940 - val_loss: 1.5862 - val_acc: 0.7171\n",
      "Epoch 74/100\n",
      "1000/1000 [==============================] - 0s 401us/step - loss: 0.0073 - acc: 0.9960 - val_loss: 1.6082 - val_acc: 0.7159\n",
      "Epoch 75/100\n",
      "1000/1000 [==============================] - 0s 414us/step - loss: 0.0072 - acc: 0.9940 - val_loss: 1.6127 - val_acc: 0.7160\n",
      "Epoch 76/100\n",
      "1000/1000 [==============================] - 0s 402us/step - loss: 0.0070 - acc: 0.9950 - val_loss: 1.6220 - val_acc: 0.7157\n",
      "Epoch 77/100\n",
      "1000/1000 [==============================] - 0s 400us/step - loss: 0.0067 - acc: 0.9940 - val_loss: 1.6224 - val_acc: 0.7169\n",
      "Epoch 78/100\n",
      "1000/1000 [==============================] - 0s 402us/step - loss: 0.0068 - acc: 0.9950 - val_loss: 1.6232 - val_acc: 0.7177\n",
      "Epoch 79/100\n",
      "1000/1000 [==============================] - 0s 404us/step - loss: 0.0064 - acc: 0.9950 - val_loss: 1.6423 - val_acc: 0.7162\n",
      "Epoch 80/100\n",
      "1000/1000 [==============================] - 0s 406us/step - loss: 0.0064 - acc: 0.9960 - val_loss: 1.6545 - val_acc: 0.7160\n",
      "Epoch 81/100\n",
      "1000/1000 [==============================] - 0s 403us/step - loss: 0.0062 - acc: 0.9970 - val_loss: 1.6499 - val_acc: 0.7175\n",
      "Epoch 82/100\n",
      "1000/1000 [==============================] - 0s 410us/step - loss: 0.0061 - acc: 0.9950 - val_loss: 1.6672 - val_acc: 0.7166\n",
      "Epoch 83/100\n",
      "1000/1000 [==============================] - 0s 413us/step - loss: 0.0058 - acc: 0.9960 - val_loss: 1.6736 - val_acc: 0.7165\n",
      "Epoch 84/100\n",
      "1000/1000 [==============================] - 0s 399us/step - loss: 0.0064 - acc: 0.9960 - val_loss: 1.6893 - val_acc: 0.7155\n",
      "Epoch 85/100\n",
      "1000/1000 [==============================] - 0s 407us/step - loss: 0.0055 - acc: 0.9970 - val_loss: 1.6869 - val_acc: 0.7175\n",
      "Epoch 86/100\n",
      "1000/1000 [==============================] - 0s 397us/step - loss: 0.0057 - acc: 0.9960 - val_loss: 1.6945 - val_acc: 0.7184\n",
      "Epoch 87/100\n",
      "1000/1000 [==============================] - 0s 398us/step - loss: 0.0057 - acc: 0.9950 - val_loss: 1.7066 - val_acc: 0.7170\n",
      "Epoch 88/100\n",
      "1000/1000 [==============================] - 0s 401us/step - loss: 0.0062 - acc: 0.9950 - val_loss: 1.7193 - val_acc: 0.7161\n",
      "Epoch 89/100\n",
      "1000/1000 [==============================] - 0s 409us/step - loss: 0.0064 - acc: 0.9960 - val_loss: 1.7232 - val_acc: 0.7159\n",
      "Epoch 90/100\n",
      "1000/1000 [==============================] - 0s 402us/step - loss: 0.0055 - acc: 0.9960 - val_loss: 1.7290 - val_acc: 0.7176\n",
      "Epoch 91/100\n",
      "1000/1000 [==============================] - 0s 409us/step - loss: 0.0050 - acc: 0.9970 - val_loss: 1.7385 - val_acc: 0.7156\n",
      "Epoch 92/100\n",
      "1000/1000 [==============================] - 0s 407us/step - loss: 0.0050 - acc: 0.9970 - val_loss: 1.7480 - val_acc: 0.7159\n",
      "Epoch 93/100\n",
      "1000/1000 [==============================] - 0s 411us/step - loss: 0.0060 - acc: 0.9960 - val_loss: 1.7457 - val_acc: 0.7175\n",
      "Epoch 94/100\n",
      "1000/1000 [==============================] - 0s 415us/step - loss: 0.0050 - acc: 0.9970 - val_loss: 1.7670 - val_acc: 0.7151\n",
      "Epoch 95/100\n",
      "1000/1000 [==============================] - 0s 408us/step - loss: 0.0053 - acc: 0.9970 - val_loss: 1.7654 - val_acc: 0.7185\n",
      "Epoch 96/100\n",
      "1000/1000 [==============================] - 0s 408us/step - loss: 0.0055 - acc: 0.9970 - val_loss: 1.7795 - val_acc: 0.7151\n",
      "Epoch 97/100\n",
      "1000/1000 [==============================] - 0s 400us/step - loss: 0.0052 - acc: 0.9960 - val_loss: 1.7805 - val_acc: 0.7161\n",
      "Epoch 98/100\n",
      "1000/1000 [==============================] - 0s 395us/step - loss: 0.0059 - acc: 0.9960 - val_loss: 1.7873 - val_acc: 0.7162\n",
      "Epoch 99/100\n",
      "1000/1000 [==============================] - 0s 405us/step - loss: 0.0063 - acc: 0.9970 - val_loss: 1.8003 - val_acc: 0.7161\n",
      "Epoch 100/100\n",
      "1000/1000 [==============================] - 0s 411us/step - loss: 0.0056 - acc: 0.9960 - val_loss: 1.8109 - val_acc: 0.7156\n"
     ]
    }
   ],
   "source": [
    "history = model.fit(x_train[:1000],\n",
    "                    one_hot_train_labels[:1000],\n",
    "                    epochs=100,\n",
    "                    batch_size=512,\n",
    "                    validation_data=(x_train[1000:], one_hot_train_labels[1000:]))"
   ]
  },
  {
   "cell_type": "code",
   "execution_count": 147,
   "metadata": {
    "scrolled": true
   },
   "outputs": [
    {
     "data": {
      "text/plain": [
       "<matplotlib.legend.Legend at 0x1b470d7b8>"
      ]
     },
     "execution_count": 147,
     "metadata": {},
     "output_type": "execute_result"
    },
    {
     "data": {
      "image/png": "[encoded data removed]",
      "text/plain": [
       "<Figure size 432x288 with 1 Axes>"
      ]
     },
     "metadata": {
      "needs_background": "light"
     },
     "output_type": "display_data"
    }
   ],
   "source": [
    "import matplotlib.pyplot as plt\n",
    "\n",
    "plt.plot(history.epoch, history.history['loss'], 'bo', label='Training Loss')\n",
    "plt.plot(history.epoch, history.history['val_loss'], 'b', label='Validation Loss')\n",
    "plt.xlabel('Epochs')\n",
    "plt.ylabel('Loss')\n",
    "plt.legend()"
   ]
  },
  {
   "cell_type": "code",
   "execution_count": 148,
   "metadata": {},
   "outputs": [
    {
     "data": {
      "text/plain": [
       "<matplotlib.legend.Legend at 0x1b4773eb8>"
      ]
     },
     "execution_count": 148,
     "metadata": {},
     "output_type": "execute_result"
    },
    {
     "data": {
      "image/png": "[encoded data removed]",
      "text/plain": [
       "<Figure size 432x288 with 1 Axes>"
      ]
     },
     "metadata": {
      "needs_background": "light"
     },
     "output_type": "display_data"
    }
   ],
   "source": [
    "plt.plot(history.epoch, history.history['acc'], 'bo', label='Training Accuracy')\n",
    "plt.plot(history.epoch, history.history['val_acc'], 'b', label='Validation Accuracy')\n",
    "plt.xlabel('Epochs')\n",
    "plt.ylabel('Acc')\n",
    "plt.legend()"
   ]
  },
  {
   "cell_type": "code",
   "execution_count": 81,
   "metadata": {
    "scrolled": false
   },
   "outputs": [
    {
     "name": "stdout",
     "output_type": "stream",
     "text": [
      "Epoch 1/22\n",
      "8982/8982 [==============================] - 1s 165us/step - loss: 2.0781 - acc: 0.5817\n",
      "Epoch 2/22\n",
      "8982/8982 [==============================] - 1s 113us/step - loss: 1.0451 - acc: 0.7771\n",
      "Epoch 3/22\n",
      "8982/8982 [==============================] - 1s 116us/step - loss: 0.7228 - acc: 0.8471\n",
      "Epoch 4/22\n",
      "8982/8982 [==============================] - 1s 100us/step - loss: 0.5147 - acc: 0.8909\n",
      "Epoch 5/22\n",
      "8982/8982 [==============================] - 1s 97us/step - loss: 0.3794 - acc: 0.9177\n",
      "Epoch 6/22\n",
      "8982/8982 [==============================] - 1s 110us/step - loss: 0.2896 - acc: 0.9354\n",
      "Epoch 7/22\n",
      "8982/8982 [==============================] - 1s 97us/step - loss: 0.2350 - acc: 0.9438\n",
      "Epoch 8/22\n",
      "8982/8982 [==============================] - 1s 101us/step - loss: 0.2029 - acc: 0.9475\n",
      "Epoch 9/22\n",
      "8982/8982 [==============================] - 1s 107us/step - loss: 0.1786 - acc: 0.9502\n",
      "Epoch 10/22\n",
      "8982/8982 [==============================] - 1s 148us/step - loss: 0.1601 - acc: 0.9531\n",
      "Epoch 11/22\n",
      "8982/8982 [==============================] - 1s 112us/step - loss: 0.1485 - acc: 0.9531\n",
      "Epoch 12/22\n",
      "8982/8982 [==============================] - 1s 109us/step - loss: 0.1394 - acc: 0.9531 0s - loss: 0.1009 - ac\n",
      "Epoch 13/22\n",
      "8982/8982 [==============================] - 1s 99us/step - loss: 0.1371 - acc: 0.9519\n",
      "Epoch 14/22\n",
      "8982/8982 [==============================] - 1s 100us/step - loss: 0.1307 - acc: 0.9545\n",
      "Epoch 15/22\n",
      "8982/8982 [==============================] - 1s 100us/step - loss: 0.1285 - acc: 0.9537\n",
      "Epoch 16/22\n",
      "8982/8982 [==============================] - 1s 98us/step - loss: 0.1217 - acc: 0.9556\n",
      "Epoch 17/22\n",
      "8982/8982 [==============================] - 1s 98us/step - loss: 0.1201 - acc: 0.9540\n",
      "Epoch 18/22\n",
      "8982/8982 [==============================] - 1s 99us/step - loss: 0.1179 - acc: 0.9534\n",
      "Epoch 19/22\n",
      "8982/8982 [==============================] - 1s 100us/step - loss: 0.1150 - acc: 0.9560\n",
      "Epoch 20/22\n",
      "8982/8982 [==============================] - 1s 100us/step - loss: 0.1117 - acc: 0.9542\n",
      "Epoch 21/22\n",
      "8982/8982 [==============================] - 1s 101us/step - loss: 0.1078 - acc: 0.9555\n",
      "Epoch 22/22\n",
      "8982/8982 [==============================] - 1s 98us/step - loss: 0.1069 - acc: 0.9528\n"
     ]
    },
    {
     "data": {
      "text/plain": [
       "<keras.callbacks.History at 0x179a28748>"
      ]
     },
     "execution_count": 81,
     "metadata": {},
     "output_type": "execute_result"
    }
   ],
   "source": [
    "model = models.Sequential()\n",
    "model.add(layers.Dense(128, activation='relu', input_shape=(10000,)))\n",
    "model.add(layers.Dense(128, activation='relu'))\n",
    "model.add(layers.Dense(46, activation='softmax'))\n",
    "\n",
    "model.compile(optimizer='rmsprop',\n",
    "              loss='categorical_crossentropy',\n",
    "              metrics=['accuracy'])\n",
    "\n",
    "model.fit(x_train, one_hot_train_labels, epochs=22, batch_size=512)"
   ]
  },
  {
   "cell_type": "code",
   "execution_count": 82,
   "metadata": {},
   "outputs": [
    {
     "name": "stdout",
     "output_type": "stream",
     "text": [
      "2246/2246 [==============================] - 0s 190us/step\n"
     ]
    },
    {
     "data": {
      "text/plain": [
       "[1.223698482275646, 0.7898486198215535]"
      ]
     },
     "execution_count": 82,
     "metadata": {},
     "output_type": "execute_result"
    }
   ],
   "source": [
    "model.evaluate(x_test, one_hot_test_labels)"
   ]
  },
  {
   "cell_type": "code",
   "execution_count": null,
   "metadata": {},
   "outputs": [],
   "source": []
  }
 ],
 "metadata": {
  "kernelspec": {
   "display_name": "Python 3",
   "language": "python",
   "name": "python3"
  },
  "language_info": {
   "codemirror_mode": {
    "name": "ipython",
    "version": 3
   },
   "file_extension": ".py",
   "mimetype": "text/x-python",
   "name": "python",
   "nbconvert_exporter": "python",
   "pygments_lexer": "ipython3",
   "version": "3.7.2"
  }
 },
 "nbformat": 4,
 "nbformat_minor": 2
}
